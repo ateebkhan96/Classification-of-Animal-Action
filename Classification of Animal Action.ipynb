{
 "cells": [
  {
   "cell_type": "markdown",
   "id": "d3e2142c",
   "metadata": {},
   "source": [
    "### Downloading Dataset from Kaggle "
   ]
  },
  {
   "cell_type": "code",
   "execution_count": null,
   "id": "8a2cc632",
   "metadata": {},
   "outputs": [],
   "source": [
    "!kaggle competitions download -c classification-of-animal-action"
   ]
  },
  {
   "cell_type": "markdown",
   "id": "c8d28021",
   "metadata": {},
   "source": [
    "### Extracting the Zip Files "
   ]
  },
  {
   "cell_type": "code",
   "execution_count": null,
   "id": "05590d95",
   "metadata": {},
   "outputs": [],
   "source": [
    "import zipfile\n",
    "\n",
    "with zipfile.ZipFile('classification-of-animal-action.zip', 'r') as zip_ref:\n",
    "    zip_ref.extractall()"
   ]
  },
  {
   "cell_type": "markdown",
   "id": "f4ab863b",
   "metadata": {},
   "source": [
    "### Importing the Libraries "
   ]
  },
  {
   "cell_type": "code",
   "execution_count": 29,
   "id": "572318d2",
   "metadata": {},
   "outputs": [],
   "source": [
    "import pandas as pd\n",
    "import numpy as np"
   ]
  },
  {
   "cell_type": "markdown",
   "id": "0073f06a",
   "metadata": {},
   "source": [
    "### Reading the Dataset"
   ]
  },
  {
   "cell_type": "code",
   "execution_count": 30,
   "id": "8a009fa8",
   "metadata": {},
   "outputs": [],
   "source": [
    "train_data = pd.read_csv('x_train.csv')\n",
    "test_data = pd.read_csv('x_test.csv')\n",
    "labels = pd.read_csv('y_train.csv')"
   ]
  },
  {
   "cell_type": "code",
   "execution_count": 31,
   "id": "a056c292",
   "metadata": {},
   "outputs": [
    {
     "data": {
      "text/html": [
       "<div>\n",
       "<style scoped>\n",
       "    .dataframe tbody tr th:only-of-type {\n",
       "        vertical-align: middle;\n",
       "    }\n",
       "\n",
       "    .dataframe tbody tr th {\n",
       "        vertical-align: top;\n",
       "    }\n",
       "\n",
       "    .dataframe thead th {\n",
       "        text-align: right;\n",
       "    }\n",
       "</style>\n",
       "<table border=\"1\" class=\"dataframe\">\n",
       "  <thead>\n",
       "    <tr style=\"text-align: right;\">\n",
       "      <th></th>\n",
       "      <th>id</th>\n",
       "      <th>cat</th>\n",
       "      <th>cow</th>\n",
       "      <th>dog</th>\n",
       "      <th>horse</th>\n",
       "      <th>sheep</th>\n",
       "      <th>bounds_x</th>\n",
       "      <th>bounds_y</th>\n",
       "      <th>bounds_width</th>\n",
       "      <th>bounds_height</th>\n",
       "      <th>...</th>\n",
       "      <th>L_F_paw_y</th>\n",
       "      <th>R_F_paw_v</th>\n",
       "      <th>R_F_paw_x</th>\n",
       "      <th>R_F_paw_y</th>\n",
       "      <th>L_B_paw_v</th>\n",
       "      <th>L_B_paw_x</th>\n",
       "      <th>L_B_paw_y</th>\n",
       "      <th>R_B_paw_v</th>\n",
       "      <th>R_B_paw_x</th>\n",
       "      <th>R_B_paw_y</th>\n",
       "    </tr>\n",
       "  </thead>\n",
       "  <tbody>\n",
       "    <tr>\n",
       "      <th>0</th>\n",
       "      <td>265</td>\n",
       "      <td>0</td>\n",
       "      <td>1</td>\n",
       "      <td>0</td>\n",
       "      <td>0</td>\n",
       "      <td>0</td>\n",
       "      <td>37</td>\n",
       "      <td>16</td>\n",
       "      <td>240</td>\n",
       "      <td>170</td>\n",
       "      <td>...</td>\n",
       "      <td>167</td>\n",
       "      <td>1</td>\n",
       "      <td>161</td>\n",
       "      <td>168</td>\n",
       "      <td>1</td>\n",
       "      <td>94</td>\n",
       "      <td>173</td>\n",
       "      <td>1</td>\n",
       "      <td>55</td>\n",
       "      <td>177</td>\n",
       "    </tr>\n",
       "    <tr>\n",
       "      <th>1</th>\n",
       "      <td>676</td>\n",
       "      <td>0</td>\n",
       "      <td>0</td>\n",
       "      <td>0</td>\n",
       "      <td>1</td>\n",
       "      <td>0</td>\n",
       "      <td>43</td>\n",
       "      <td>8</td>\n",
       "      <td>208</td>\n",
       "      <td>236</td>\n",
       "      <td>...</td>\n",
       "      <td>213</td>\n",
       "      <td>1</td>\n",
       "      <td>193</td>\n",
       "      <td>209</td>\n",
       "      <td>1</td>\n",
       "      <td>77</td>\n",
       "      <td>232</td>\n",
       "      <td>1</td>\n",
       "      <td>115</td>\n",
       "      <td>233</td>\n",
       "    </tr>\n",
       "    <tr>\n",
       "      <th>2</th>\n",
       "      <td>441</td>\n",
       "      <td>0</td>\n",
       "      <td>0</td>\n",
       "      <td>1</td>\n",
       "      <td>0</td>\n",
       "      <td>0</td>\n",
       "      <td>65</td>\n",
       "      <td>0</td>\n",
       "      <td>234</td>\n",
       "      <td>222</td>\n",
       "      <td>...</td>\n",
       "      <td>0</td>\n",
       "      <td>0</td>\n",
       "      <td>0</td>\n",
       "      <td>0</td>\n",
       "      <td>0</td>\n",
       "      <td>0</td>\n",
       "      <td>0</td>\n",
       "      <td>0</td>\n",
       "      <td>0</td>\n",
       "      <td>0</td>\n",
       "    </tr>\n",
       "    <tr>\n",
       "      <th>3</th>\n",
       "      <td>328</td>\n",
       "      <td>0</td>\n",
       "      <td>1</td>\n",
       "      <td>0</td>\n",
       "      <td>0</td>\n",
       "      <td>0</td>\n",
       "      <td>15</td>\n",
       "      <td>8</td>\n",
       "      <td>272</td>\n",
       "      <td>178</td>\n",
       "      <td>...</td>\n",
       "      <td>171</td>\n",
       "      <td>1</td>\n",
       "      <td>190</td>\n",
       "      <td>172</td>\n",
       "      <td>1</td>\n",
       "      <td>52</td>\n",
       "      <td>176</td>\n",
       "      <td>1</td>\n",
       "      <td>35</td>\n",
       "      <td>178</td>\n",
       "    </tr>\n",
       "    <tr>\n",
       "      <th>4</th>\n",
       "      <td>102</td>\n",
       "      <td>1</td>\n",
       "      <td>0</td>\n",
       "      <td>0</td>\n",
       "      <td>0</td>\n",
       "      <td>0</td>\n",
       "      <td>2</td>\n",
       "      <td>1</td>\n",
       "      <td>148</td>\n",
       "      <td>146</td>\n",
       "      <td>...</td>\n",
       "      <td>130</td>\n",
       "      <td>1</td>\n",
       "      <td>68</td>\n",
       "      <td>131</td>\n",
       "      <td>1</td>\n",
       "      <td>3</td>\n",
       "      <td>128</td>\n",
       "      <td>0</td>\n",
       "      <td>0</td>\n",
       "      <td>0</td>\n",
       "    </tr>\n",
       "  </tbody>\n",
       "</table>\n",
       "<p>5 rows × 70 columns</p>\n",
       "</div>"
      ],
      "text/plain": [
       "    id  cat  cow  dog  horse  sheep  bounds_x  bounds_y  bounds_width  \\\n",
       "0  265    0    1    0      0      0        37        16           240   \n",
       "1  676    0    0    0      1      0        43         8           208   \n",
       "2  441    0    0    1      0      0        65         0           234   \n",
       "3  328    0    1    0      0      0        15         8           272   \n",
       "4  102    1    0    0      0      0         2         1           148   \n",
       "\n",
       "   bounds_height  ...  L_F_paw_y  R_F_paw_v  R_F_paw_x  R_F_paw_y  L_B_paw_v  \\\n",
       "0            170  ...        167          1        161        168          1   \n",
       "1            236  ...        213          1        193        209          1   \n",
       "2            222  ...          0          0          0          0          0   \n",
       "3            178  ...        171          1        190        172          1   \n",
       "4            146  ...        130          1         68        131          1   \n",
       "\n",
       "   L_B_paw_x  L_B_paw_y  R_B_paw_v  R_B_paw_x  R_B_paw_y  \n",
       "0         94        173          1         55        177  \n",
       "1         77        232          1        115        233  \n",
       "2          0          0          0          0          0  \n",
       "3         52        176          1         35        178  \n",
       "4          3        128          0          0          0  \n",
       "\n",
       "[5 rows x 70 columns]"
      ]
     },
     "execution_count": 31,
     "metadata": {},
     "output_type": "execute_result"
    }
   ],
   "source": [
    "train_data.head()"
   ]
  },
  {
   "cell_type": "code",
   "execution_count": 32,
   "id": "1b725338",
   "metadata": {},
   "outputs": [
    {
     "data": {
      "text/html": [
       "<div>\n",
       "<style scoped>\n",
       "    .dataframe tbody tr th:only-of-type {\n",
       "        vertical-align: middle;\n",
       "    }\n",
       "\n",
       "    .dataframe tbody tr th {\n",
       "        vertical-align: top;\n",
       "    }\n",
       "\n",
       "    .dataframe thead th {\n",
       "        text-align: right;\n",
       "    }\n",
       "</style>\n",
       "<table border=\"1\" class=\"dataframe\">\n",
       "  <thead>\n",
       "    <tr style=\"text-align: right;\">\n",
       "      <th></th>\n",
       "      <th>id</th>\n",
       "      <th>cat</th>\n",
       "      <th>cow</th>\n",
       "      <th>dog</th>\n",
       "      <th>horse</th>\n",
       "      <th>sheep</th>\n",
       "      <th>bounds_x</th>\n",
       "      <th>bounds_y</th>\n",
       "      <th>bounds_width</th>\n",
       "      <th>bounds_height</th>\n",
       "      <th>...</th>\n",
       "      <th>L_F_paw_y</th>\n",
       "      <th>R_F_paw_v</th>\n",
       "      <th>R_F_paw_x</th>\n",
       "      <th>R_F_paw_y</th>\n",
       "      <th>L_B_paw_v</th>\n",
       "      <th>L_B_paw_x</th>\n",
       "      <th>L_B_paw_y</th>\n",
       "      <th>R_B_paw_v</th>\n",
       "      <th>R_B_paw_x</th>\n",
       "      <th>R_B_paw_y</th>\n",
       "    </tr>\n",
       "  </thead>\n",
       "  <tbody>\n",
       "    <tr>\n",
       "      <th>0</th>\n",
       "      <td>582</td>\n",
       "      <td>0</td>\n",
       "      <td>0</td>\n",
       "      <td>0</td>\n",
       "      <td>1</td>\n",
       "      <td>0</td>\n",
       "      <td>59</td>\n",
       "      <td>30</td>\n",
       "      <td>234</td>\n",
       "      <td>156</td>\n",
       "      <td>...</td>\n",
       "      <td>179</td>\n",
       "      <td>1</td>\n",
       "      <td>141</td>\n",
       "      <td>177</td>\n",
       "      <td>1</td>\n",
       "      <td>196</td>\n",
       "      <td>172</td>\n",
       "      <td>1</td>\n",
       "      <td>255</td>\n",
       "      <td>169</td>\n",
       "    </tr>\n",
       "    <tr>\n",
       "      <th>1</th>\n",
       "      <td>42</td>\n",
       "      <td>1</td>\n",
       "      <td>0</td>\n",
       "      <td>0</td>\n",
       "      <td>0</td>\n",
       "      <td>0</td>\n",
       "      <td>73</td>\n",
       "      <td>2</td>\n",
       "      <td>170</td>\n",
       "      <td>174</td>\n",
       "      <td>...</td>\n",
       "      <td>171</td>\n",
       "      <td>1</td>\n",
       "      <td>158</td>\n",
       "      <td>161</td>\n",
       "      <td>1</td>\n",
       "      <td>142</td>\n",
       "      <td>152</td>\n",
       "      <td>1</td>\n",
       "      <td>105</td>\n",
       "      <td>152</td>\n",
       "    </tr>\n",
       "    <tr>\n",
       "      <th>2</th>\n",
       "      <td>148</td>\n",
       "      <td>1</td>\n",
       "      <td>0</td>\n",
       "      <td>0</td>\n",
       "      <td>0</td>\n",
       "      <td>0</td>\n",
       "      <td>1</td>\n",
       "      <td>8</td>\n",
       "      <td>180</td>\n",
       "      <td>242</td>\n",
       "      <td>...</td>\n",
       "      <td>234</td>\n",
       "      <td>1</td>\n",
       "      <td>83</td>\n",
       "      <td>231</td>\n",
       "      <td>0</td>\n",
       "      <td>0</td>\n",
       "      <td>0</td>\n",
       "      <td>1</td>\n",
       "      <td>52</td>\n",
       "      <td>200</td>\n",
       "    </tr>\n",
       "    <tr>\n",
       "      <th>3</th>\n",
       "      <td>737</td>\n",
       "      <td>0</td>\n",
       "      <td>0</td>\n",
       "      <td>0</td>\n",
       "      <td>1</td>\n",
       "      <td>0</td>\n",
       "      <td>19</td>\n",
       "      <td>6</td>\n",
       "      <td>226</td>\n",
       "      <td>160</td>\n",
       "      <td>...</td>\n",
       "      <td>0</td>\n",
       "      <td>1</td>\n",
       "      <td>205</td>\n",
       "      <td>140</td>\n",
       "      <td>1</td>\n",
       "      <td>95</td>\n",
       "      <td>163</td>\n",
       "      <td>1</td>\n",
       "      <td>50</td>\n",
       "      <td>162</td>\n",
       "    </tr>\n",
       "    <tr>\n",
       "      <th>4</th>\n",
       "      <td>213</td>\n",
       "      <td>0</td>\n",
       "      <td>1</td>\n",
       "      <td>0</td>\n",
       "      <td>0</td>\n",
       "      <td>0</td>\n",
       "      <td>0</td>\n",
       "      <td>2</td>\n",
       "      <td>297</td>\n",
       "      <td>296</td>\n",
       "      <td>...</td>\n",
       "      <td>0</td>\n",
       "      <td>0</td>\n",
       "      <td>0</td>\n",
       "      <td>0</td>\n",
       "      <td>0</td>\n",
       "      <td>0</td>\n",
       "      <td>0</td>\n",
       "      <td>0</td>\n",
       "      <td>0</td>\n",
       "      <td>0</td>\n",
       "    </tr>\n",
       "  </tbody>\n",
       "</table>\n",
       "<p>5 rows × 70 columns</p>\n",
       "</div>"
      ],
      "text/plain": [
       "    id  cat  cow  dog  horse  sheep  bounds_x  bounds_y  bounds_width  \\\n",
       "0  582    0    0    0      1      0        59        30           234   \n",
       "1   42    1    0    0      0      0        73         2           170   \n",
       "2  148    1    0    0      0      0         1         8           180   \n",
       "3  737    0    0    0      1      0        19         6           226   \n",
       "4  213    0    1    0      0      0         0         2           297   \n",
       "\n",
       "   bounds_height  ...  L_F_paw_y  R_F_paw_v  R_F_paw_x  R_F_paw_y  L_B_paw_v  \\\n",
       "0            156  ...        179          1        141        177          1   \n",
       "1            174  ...        171          1        158        161          1   \n",
       "2            242  ...        234          1         83        231          0   \n",
       "3            160  ...          0          1        205        140          1   \n",
       "4            296  ...          0          0          0          0          0   \n",
       "\n",
       "   L_B_paw_x  L_B_paw_y  R_B_paw_v  R_B_paw_x  R_B_paw_y  \n",
       "0        196        172          1        255        169  \n",
       "1        142        152          1        105        152  \n",
       "2          0          0          1         52        200  \n",
       "3         95        163          1         50        162  \n",
       "4          0          0          0          0          0  \n",
       "\n",
       "[5 rows x 70 columns]"
      ]
     },
     "execution_count": 32,
     "metadata": {},
     "output_type": "execute_result"
    }
   ],
   "source": [
    "test_data.head()"
   ]
  },
  {
   "cell_type": "code",
   "execution_count": 33,
   "id": "0ae70f31",
   "metadata": {},
   "outputs": [
    {
     "data": {
      "text/html": [
       "<div>\n",
       "<style scoped>\n",
       "    .dataframe tbody tr th:only-of-type {\n",
       "        vertical-align: middle;\n",
       "    }\n",
       "\n",
       "    .dataframe tbody tr th {\n",
       "        vertical-align: top;\n",
       "    }\n",
       "\n",
       "    .dataframe thead th {\n",
       "        text-align: right;\n",
       "    }\n",
       "</style>\n",
       "<table border=\"1\" class=\"dataframe\">\n",
       "  <thead>\n",
       "    <tr style=\"text-align: right;\">\n",
       "      <th></th>\n",
       "      <th>id</th>\n",
       "      <th>nothing</th>\n",
       "      <th>stand</th>\n",
       "      <th>sit</th>\n",
       "      <th>lie</th>\n",
       "      <th>go</th>\n",
       "      <th>run</th>\n",
       "    </tr>\n",
       "  </thead>\n",
       "  <tbody>\n",
       "    <tr>\n",
       "      <th>0</th>\n",
       "      <td>265</td>\n",
       "      <td>0</td>\n",
       "      <td>0</td>\n",
       "      <td>0</td>\n",
       "      <td>0</td>\n",
       "      <td>1</td>\n",
       "      <td>0</td>\n",
       "    </tr>\n",
       "    <tr>\n",
       "      <th>1</th>\n",
       "      <td>676</td>\n",
       "      <td>0</td>\n",
       "      <td>0</td>\n",
       "      <td>0</td>\n",
       "      <td>0</td>\n",
       "      <td>1</td>\n",
       "      <td>0</td>\n",
       "    </tr>\n",
       "    <tr>\n",
       "      <th>2</th>\n",
       "      <td>441</td>\n",
       "      <td>1</td>\n",
       "      <td>0</td>\n",
       "      <td>0</td>\n",
       "      <td>0</td>\n",
       "      <td>0</td>\n",
       "      <td>0</td>\n",
       "    </tr>\n",
       "    <tr>\n",
       "      <th>3</th>\n",
       "      <td>328</td>\n",
       "      <td>0</td>\n",
       "      <td>1</td>\n",
       "      <td>0</td>\n",
       "      <td>0</td>\n",
       "      <td>0</td>\n",
       "      <td>0</td>\n",
       "    </tr>\n",
       "    <tr>\n",
       "      <th>4</th>\n",
       "      <td>102</td>\n",
       "      <td>0</td>\n",
       "      <td>0</td>\n",
       "      <td>0</td>\n",
       "      <td>1</td>\n",
       "      <td>0</td>\n",
       "      <td>0</td>\n",
       "    </tr>\n",
       "  </tbody>\n",
       "</table>\n",
       "</div>"
      ],
      "text/plain": [
       "    id  nothing  stand  sit  lie  go  run\n",
       "0  265        0      0    0    0   1    0\n",
       "1  676        0      0    0    0   1    0\n",
       "2  441        1      0    0    0   0    0\n",
       "3  328        0      1    0    0   0    0\n",
       "4  102        0      0    0    1   0    0"
      ]
     },
     "execution_count": 33,
     "metadata": {},
     "output_type": "execute_result"
    }
   ],
   "source": [
    "labels.head()"
   ]
  },
  {
   "cell_type": "code",
   "execution_count": 34,
   "id": "39cb55e2",
   "metadata": {},
   "outputs": [],
   "source": [
    "train_data = train_data.drop('id',axis=1)\n",
    "labels = labels.drop('id',axis=1)"
   ]
  },
  {
   "cell_type": "code",
   "execution_count": 35,
   "id": "0881f46d",
   "metadata": {},
   "outputs": [],
   "source": [
    "test_id = test_data['id']"
   ]
  },
  {
   "cell_type": "code",
   "execution_count": 36,
   "id": "fdf6db9e",
   "metadata": {},
   "outputs": [],
   "source": [
    "test_data = test_data.drop('id',axis=1)"
   ]
  },
  {
   "cell_type": "code",
   "execution_count": 37,
   "id": "fdd57181",
   "metadata": {},
   "outputs": [
    {
     "name": "stdout",
     "output_type": "stream",
     "text": [
      "<class 'pandas.core.frame.DataFrame'>\n",
      "RangeIndex: 676 entries, 0 to 675\n",
      "Data columns (total 69 columns):\n",
      " #   Column         Non-Null Count  Dtype\n",
      "---  ------         --------------  -----\n",
      " 0   cat            676 non-null    int64\n",
      " 1   cow            676 non-null    int64\n",
      " 2   dog            676 non-null    int64\n",
      " 3   horse          676 non-null    int64\n",
      " 4   sheep          676 non-null    int64\n",
      " 5   bounds_x       676 non-null    int64\n",
      " 6   bounds_y       676 non-null    int64\n",
      " 7   bounds_width   676 non-null    int64\n",
      " 8   bounds_height  676 non-null    int64\n",
      " 9   L_eye_v        676 non-null    int64\n",
      " 10  L_eye_x        676 non-null    int64\n",
      " 11  L_eye_y        676 non-null    int64\n",
      " 12  R_eye_v        676 non-null    int64\n",
      " 13  R_eye_x        676 non-null    int64\n",
      " 14  R_eye_y        676 non-null    int64\n",
      " 15  L_ear_v        676 non-null    int64\n",
      " 16  L_ear_x        676 non-null    int64\n",
      " 17  L_ear_y        676 non-null    int64\n",
      " 18  R_ear_v        676 non-null    int64\n",
      " 19  R_ear_x        676 non-null    int64\n",
      " 20  R_ear_y        676 non-null    int64\n",
      " 21  Nose_v         676 non-null    int64\n",
      " 22  Nose_x         676 non-null    int64\n",
      " 23  Nose_y         676 non-null    int64\n",
      " 24  Throat_v       676 non-null    int64\n",
      " 25  Throat_x       676 non-null    int64\n",
      " 26  Throat_y       676 non-null    int64\n",
      " 27  Tail_v         676 non-null    int64\n",
      " 28  Tail_x         676 non-null    int64\n",
      " 29  Tail_y         676 non-null    int64\n",
      " 30  withers_v      676 non-null    int64\n",
      " 31  withers_x      676 non-null    int64\n",
      " 32  withers_y      676 non-null    int64\n",
      " 33  L_F_elbow_v    676 non-null    int64\n",
      " 34  L_F_elbow_x    676 non-null    int64\n",
      " 35  L_F_elbow_y    676 non-null    int64\n",
      " 36  R_F_elbow_v    676 non-null    int64\n",
      " 37  R_F_elbow_x    676 non-null    int64\n",
      " 38  R_F_elbow_y    676 non-null    int64\n",
      " 39  L_B_elbow_v    676 non-null    int64\n",
      " 40  L_B_elbow_x    676 non-null    int64\n",
      " 41  L_B_elbow_y    676 non-null    int64\n",
      " 42  R_B_elbow_v    676 non-null    int64\n",
      " 43  R_B_elbow_x    676 non-null    int64\n",
      " 44  R_B_elbow_y    676 non-null    int64\n",
      " 45  L_F_knee_v     676 non-null    int64\n",
      " 46  L_F_knee_x     676 non-null    int64\n",
      " 47  L_F_knee_y     676 non-null    int64\n",
      " 48  R_F_knee_v     676 non-null    int64\n",
      " 49  R_F_knee_x     676 non-null    int64\n",
      " 50  R_F_knee_y     676 non-null    int64\n",
      " 51  L_B_knee_v     676 non-null    int64\n",
      " 52  L_B_knee_x     676 non-null    int64\n",
      " 53  L_B_knee_y     676 non-null    int64\n",
      " 54  R_B_knee_v     676 non-null    int64\n",
      " 55  R_B_knee_x     676 non-null    int64\n",
      " 56  R_B_knee_y     676 non-null    int64\n",
      " 57  L_F_paw_v      676 non-null    int64\n",
      " 58  L_F_paw_x      676 non-null    int64\n",
      " 59  L_F_paw_y      676 non-null    int64\n",
      " 60  R_F_paw_v      676 non-null    int64\n",
      " 61  R_F_paw_x      676 non-null    int64\n",
      " 62  R_F_paw_y      676 non-null    int64\n",
      " 63  L_B_paw_v      676 non-null    int64\n",
      " 64  L_B_paw_x      676 non-null    int64\n",
      " 65  L_B_paw_y      676 non-null    int64\n",
      " 66  R_B_paw_v      676 non-null    int64\n",
      " 67  R_B_paw_x      676 non-null    int64\n",
      " 68  R_B_paw_y      676 non-null    int64\n",
      "dtypes: int64(69)\n",
      "memory usage: 364.5 KB\n"
     ]
    }
   ],
   "source": [
    "train_data.info()"
   ]
  },
  {
   "cell_type": "code",
   "execution_count": 38,
   "id": "5349d8fd",
   "metadata": {},
   "outputs": [
    {
     "data": {
      "text/plain": [
       "(676, 69)"
      ]
     },
     "execution_count": 38,
     "metadata": {},
     "output_type": "execute_result"
    }
   ],
   "source": [
    "train_data.shape"
   ]
  },
  {
   "cell_type": "code",
   "execution_count": 39,
   "id": "a6689c97",
   "metadata": {},
   "outputs": [],
   "source": [
    "train_data = train_data.astype(float)"
   ]
  },
  {
   "cell_type": "markdown",
   "id": "40caf0e9",
   "metadata": {},
   "source": [
    "### Preprocessing the Data"
   ]
  },
  {
   "cell_type": "code",
   "execution_count": 40,
   "id": "eb10b62f",
   "metadata": {},
   "outputs": [],
   "source": [
    "#preprocessing the data\n",
    "\n",
    "from sklearn.preprocessing import StandardScaler\n",
    "\n",
    "ss = StandardScaler()\n",
    "\n",
    "train_data_new = ss.fit_transform(train_data)"
   ]
  },
  {
   "cell_type": "code",
   "execution_count": 41,
   "id": "cda5b050",
   "metadata": {},
   "outputs": [
    {
     "data": {
      "text/plain": [
       "(676, 69)"
      ]
     },
     "execution_count": 41,
     "metadata": {},
     "output_type": "execute_result"
    }
   ],
   "source": [
    "train_data_new.shape"
   ]
  },
  {
   "cell_type": "code",
   "execution_count": 42,
   "id": "277d00b7",
   "metadata": {},
   "outputs": [
    {
     "data": {
      "text/plain": [
       "(676, 69)"
      ]
     },
     "execution_count": 42,
     "metadata": {},
     "output_type": "execute_result"
    }
   ],
   "source": [
    "train_data.shape"
   ]
  },
  {
   "cell_type": "code",
   "execution_count": 43,
   "id": "37933335",
   "metadata": {},
   "outputs": [
    {
     "data": {
      "text/plain": [
       "(676, 6)"
      ]
     },
     "execution_count": 43,
     "metadata": {},
     "output_type": "execute_result"
    }
   ],
   "source": [
    "labels.shape"
   ]
  },
  {
   "cell_type": "markdown",
   "id": "88541d83",
   "metadata": {},
   "source": [
    "### Creating the Validation Set"
   ]
  },
  {
   "cell_type": "code",
   "execution_count": 44,
   "id": "eef83629",
   "metadata": {},
   "outputs": [],
   "source": [
    "x_train = train_data[100:]\n",
    "y_train = labels[100:]\n",
    "x_valid = train_data[:100]\n",
    "y_valid = labels[:100]"
   ]
  },
  {
   "cell_type": "code",
   "execution_count": 45,
   "id": "e38540b4",
   "metadata": {
    "scrolled": true
   },
   "outputs": [
    {
     "name": "stdout",
     "output_type": "stream",
     "text": [
      "(576, 69)\n",
      "(100, 69)\n",
      "(576, 6)\n",
      "(100, 6)\n"
     ]
    }
   ],
   "source": [
    "print(x_train.shape)\n",
    "print(x_valid.shape)\n",
    "print(y_train.shape)\n",
    "print(y_valid.shape)"
   ]
  },
  {
   "cell_type": "markdown",
   "id": "b520ba5b",
   "metadata": {},
   "source": [
    "### Trying Deep Learning Model "
   ]
  },
  {
   "cell_type": "code",
   "execution_count": 46,
   "id": "3466ce25",
   "metadata": {},
   "outputs": [],
   "source": [
    "#Importing required Libraries\n",
    "import tensorflow as tf\n",
    "from tensorflow import keras\n",
    "from keras.initializers import he_normal"
   ]
  },
  {
   "cell_type": "code",
   "execution_count": 47,
   "id": "9a7c0586",
   "metadata": {},
   "outputs": [],
   "source": [
    "model = keras.Sequential([\n",
    "    keras.layers.Flatten(input_shape=[69]),\n",
    "    keras.layers.Dense(512,activation='relu'),\n",
    "    keras.layers.Dense(256,activation='relu'),\n",
    "    keras.layers.Dense(128,activation='relu'),\n",
    "    keras.layers.Dense(6,activation='softmax')\n",
    "])"
   ]
  },
  {
   "cell_type": "code",
   "execution_count": 48,
   "id": "fcc8ada8",
   "metadata": {},
   "outputs": [],
   "source": [
    "model.compile(loss=\"categorical_crossentropy\",\n",
    "             optimizer='nadam',\n",
    "             metrics=[\"accuracy\"])"
   ]
  },
  {
   "cell_type": "code",
   "execution_count": 82,
   "id": "9576377f",
   "metadata": {
    "scrolled": true
   },
   "outputs": [
    {
     "name": "stdout",
     "output_type": "stream",
     "text": [
      "Epoch 1/20\n",
      "2/2 [==============================] - 1s 189ms/step - loss: 0.0158 - accuracy: 0.9983 - val_loss: 2.4612 - val_accuracy: 0.5900\n",
      "Epoch 2/20\n",
      "2/2 [==============================] - 0s 51ms/step - loss: 0.0158 - accuracy: 1.0000 - val_loss: 2.4461 - val_accuracy: 0.5900\n",
      "Epoch 3/20\n",
      "2/2 [==============================] - 0s 43ms/step - loss: 0.0158 - accuracy: 0.9983 - val_loss: 2.4594 - val_accuracy: 0.5800\n",
      "Epoch 4/20\n",
      "2/2 [==============================] - 0s 40ms/step - loss: 0.0160 - accuracy: 0.9983 - val_loss: 2.4723 - val_accuracy: 0.5900\n",
      "Epoch 5/20\n",
      "2/2 [==============================] - 0s 56ms/step - loss: 0.0163 - accuracy: 0.9983 - val_loss: 2.4546 - val_accuracy: 0.5900\n",
      "Epoch 6/20\n",
      "2/2 [==============================] - 0s 57ms/step - loss: 0.0160 - accuracy: 0.9983 - val_loss: 2.4612 - val_accuracy: 0.5900\n",
      "Epoch 7/20\n",
      "2/2 [==============================] - 0s 47ms/step - loss: 0.0158 - accuracy: 1.0000 - val_loss: 2.4535 - val_accuracy: 0.5900\n",
      "Epoch 8/20\n",
      "2/2 [==============================] - 0s 59ms/step - loss: 0.0156 - accuracy: 1.0000 - val_loss: 2.4710 - val_accuracy: 0.5900\n",
      "Epoch 9/20\n",
      "2/2 [==============================] - 0s 58ms/step - loss: 0.0155 - accuracy: 0.9983 - val_loss: 2.4707 - val_accuracy: 0.5900\n",
      "Epoch 10/20\n",
      "2/2 [==============================] - 0s 64ms/step - loss: 0.0152 - accuracy: 1.0000 - val_loss: 2.4725 - val_accuracy: 0.5900\n",
      "Epoch 11/20\n",
      "2/2 [==============================] - 0s 38ms/step - loss: 0.0151 - accuracy: 0.9983 - val_loss: 2.4796 - val_accuracy: 0.5900\n",
      "Epoch 12/20\n",
      "2/2 [==============================] - 0s 40ms/step - loss: 0.0151 - accuracy: 1.0000 - val_loss: 2.4681 - val_accuracy: 0.6000\n",
      "Epoch 13/20\n",
      "2/2 [==============================] - 0s 42ms/step - loss: 0.0150 - accuracy: 1.0000 - val_loss: 2.4794 - val_accuracy: 0.5900\n",
      "Epoch 14/20\n",
      "2/2 [==============================] - 0s 65ms/step - loss: 0.0150 - accuracy: 0.9983 - val_loss: 2.4687 - val_accuracy: 0.6000\n",
      "Epoch 15/20\n",
      "2/2 [==============================] - 0s 33ms/step - loss: 0.0147 - accuracy: 1.0000 - val_loss: 2.4755 - val_accuracy: 0.5800\n",
      "Epoch 16/20\n",
      "2/2 [==============================] - 0s 61ms/step - loss: 0.0149 - accuracy: 1.0000 - val_loss: 2.4857 - val_accuracy: 0.5900\n",
      "Epoch 17/20\n",
      "2/2 [==============================] - 0s 64ms/step - loss: 0.0147 - accuracy: 0.9983 - val_loss: 2.4923 - val_accuracy: 0.6000\n",
      "Epoch 18/20\n",
      "2/2 [==============================] - 0s 51ms/step - loss: 0.0146 - accuracy: 1.0000 - val_loss: 2.4762 - val_accuracy: 0.5900\n",
      "Epoch 19/20\n",
      "2/2 [==============================] - 0s 61ms/step - loss: 0.0148 - accuracy: 0.9983 - val_loss: 2.5077 - val_accuracy: 0.6000\n",
      "Epoch 20/20\n",
      "2/2 [==============================] - 0s 54ms/step - loss: 0.0150 - accuracy: 1.0000 - val_loss: 2.4780 - val_accuracy: 0.5900\n",
      "Wall time: 2.08 s\n"
     ]
    }
   ],
   "source": [
    "%%time\n",
    "history = model.fit(x_train,y_train,batch_size=400,epochs=20,\n",
    "                   validation_data= (x_valid,y_valid))"
   ]
  },
  {
   "cell_type": "code",
   "execution_count": 70,
   "id": "b8e69ad2",
   "metadata": {},
   "outputs": [],
   "source": [
    "#preprocessing the test data\n",
    "new_test = ss.transform(test_data)"
   ]
  },
  {
   "cell_type": "code",
   "execution_count": 83,
   "id": "0ab96c0f",
   "metadata": {},
   "outputs": [],
   "source": [
    "#saving the model\n",
    "model.save('mymodel.h5')"
   ]
  },
  {
   "cell_type": "code",
   "execution_count": 84,
   "id": "8d5335d2",
   "metadata": {},
   "outputs": [],
   "source": [
    "#loading the model\n",
    "model = tf.keras.models.load_model('mymodel.h5') #same file path"
   ]
  },
  {
   "cell_type": "markdown",
   "id": "6158e2b4",
   "metadata": {},
   "source": [
    "### Creating Submission Dataframe "
   ]
  },
  {
   "cell_type": "code",
   "execution_count": 85,
   "id": "9d9271ba",
   "metadata": {},
   "outputs": [
    {
     "name": "stdout",
     "output_type": "stream",
     "text": [
      "Empty DataFrame\n",
      "Columns: []\n",
      "Index: []\n"
     ]
    }
   ],
   "source": [
    "# Importing Pandas to create DataFrame\n",
    "import pandas as pd\n",
    "\n",
    "# Creating Empty DataFrame and Storing it in variable df\n",
    "df = pd.DataFrame()\n",
    "\n",
    "# Printing Empty DataFrame\n",
    "print(df)"
   ]
  },
  {
   "cell_type": "markdown",
   "id": "f287830b",
   "metadata": {},
   "source": [
    "### Making Prediction on Test Set "
   ]
  },
  {
   "cell_type": "code",
   "execution_count": 86,
   "id": "3aed43b1",
   "metadata": {},
   "outputs": [
    {
     "data": {
      "text/plain": [
       "array([1, 2, 1, 1, 0, 1, 1, 1, 1, 1, 1, 1, 1, 1, 4, 2, 1, 1, 2, 1, 4, 1,\n",
       "       2, 1, 2, 0, 0, 3, 1, 1, 1, 1, 1, 1, 0, 1, 4, 1, 2, 1, 0, 1, 1, 1,\n",
       "       2, 1, 1, 2, 1, 1, 1, 1, 1, 2, 1, 1, 1, 1, 2, 1, 4, 1, 0, 1, 1, 1,\n",
       "       2, 1, 5, 1, 1, 1, 1, 1, 2, 1, 3, 1, 3, 4, 1, 1, 0, 1, 1, 1, 1, 1,\n",
       "       1, 1, 2, 1, 1, 2, 3, 1, 1, 2, 1, 1, 2, 1, 1, 1, 4, 1, 1, 1, 0, 2,\n",
       "       1, 1, 1, 1, 1, 1, 1, 2, 1, 1, 1, 1, 1, 1, 1, 1, 1, 1, 1, 3, 2, 1,\n",
       "       1, 1, 1, 1, 3, 1, 1, 2, 1, 1, 1, 0, 4, 1, 1, 0, 1, 1, 1, 1, 1, 1,\n",
       "       2, 1, 1, 1, 1, 1, 1, 1, 1, 1, 1, 1, 2, 1, 1, 1, 1, 1, 1, 1, 1, 0,\n",
       "       2, 1, 1, 1, 1, 3, 1, 1, 2, 1, 1, 2, 1, 2, 2, 1, 1, 1, 1, 1, 1, 1,\n",
       "       1, 1, 1, 1, 2, 0, 1, 1, 4, 1, 1, 1, 1, 2, 1, 1, 1, 1, 1, 1, 2, 1,\n",
       "       1, 4, 0, 1, 1, 1, 1, 1, 2, 1, 1, 1, 1, 1, 1, 1, 1, 1, 1, 1, 1, 1,\n",
       "       1, 1, 1, 1, 1, 1, 1, 1, 2, 1, 1, 1, 2, 1, 1, 1, 1, 1, 1, 1, 2, 1,\n",
       "       1, 1, 1, 1, 1, 1, 2, 2, 1, 2, 1, 1, 2, 1, 1, 1, 1, 1, 1, 1, 2, 3,\n",
       "       1, 1, 1, 4, 3], dtype=int64)"
      ]
     },
     "execution_count": 86,
     "metadata": {},
     "output_type": "execute_result"
    }
   ],
   "source": [
    "y_pred = np.argmax(model.predict(new_test),axis=1)\n",
    "y_pred"
   ]
  },
  {
   "cell_type": "markdown",
   "id": "3647f370",
   "metadata": {},
   "source": [
    "### Adding the Predicted Labels to submission file. "
   ]
  },
  {
   "cell_type": "code",
   "execution_count": 87,
   "id": "ee365f57",
   "metadata": {},
   "outputs": [],
   "source": [
    "df['id'] = test_id"
   ]
  },
  {
   "cell_type": "code",
   "execution_count": 88,
   "id": "e1674b49",
   "metadata": {},
   "outputs": [],
   "source": [
    "df['label'] = y_pred"
   ]
  },
  {
   "cell_type": "code",
   "execution_count": 89,
   "id": "c290d93b",
   "metadata": {},
   "outputs": [],
   "source": [
    "df.to_csv('submission.csv',index=0)"
   ]
  },
  {
   "cell_type": "code",
   "execution_count": 90,
   "id": "ddfb65e8",
   "metadata": {},
   "outputs": [
    {
     "name": "stdout",
     "output_type": "stream",
     "text": [
      "Successfully submitted to Classification of animal action\n"
     ]
    },
    {
     "name": "stderr",
     "output_type": "stream",
     "text": [
      "\n",
      "  0%|          | 0.00/1.97k [00:00<?, ?B/s]\n",
      "100%|##########| 1.97k/1.97k [00:00<00:00, 9.16kB/s]\n",
      "100%|##########| 1.97k/1.97k [00:04<00:00, 423B/s]  \n"
     ]
    }
   ],
   "source": [
    "#submitting in kaggle compitition\n",
    "!kaggle competitions submit -c classification-of-animal-action -f submission.csv -m \"Latest Submission\""
   ]
  }
 ],
 "metadata": {
  "kernelspec": {
   "display_name": "Python 3 (ipykernel)",
   "language": "python",
   "name": "python3"
  },
  "language_info": {
   "codemirror_mode": {
    "name": "ipython",
    "version": 3
   },
   "file_extension": ".py",
   "mimetype": "text/x-python",
   "name": "python",
   "nbconvert_exporter": "python",
   "pygments_lexer": "ipython3",
   "version": "3.9.7"
  }
 },
 "nbformat": 4,
 "nbformat_minor": 5
}
